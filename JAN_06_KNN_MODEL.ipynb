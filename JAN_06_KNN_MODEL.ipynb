{
 "cells": [
  {
   "cell_type": "code",
   "execution_count": 17,
   "id": "b18cfa14",
   "metadata": {},
   "outputs": [],
   "source": [
    "#we'll try to use KNN to create a model that directly predicts a class\n",
    "#for a new data point based off of the features.\n",
    "\n",
    "import pandas as pd\n",
    "import seaborn as sns\n",
    "import matplotlib.pyplot as plt\n",
    "import numpy as np\n",
    "%matplotlib inline\n"
   ]
  },
  {
   "cell_type": "code",
   "execution_count": 18,
   "id": "ead909e4",
   "metadata": {},
   "outputs": [],
   "source": [
    "df = pd.read_csv(\"mis.csv\", index_col=0)"
   ]
  },
  {
   "cell_type": "code",
   "execution_count": 19,
   "id": "b205f2d4",
   "metadata": {},
   "outputs": [
    {
     "data": {
      "text/html": [
       "<div>\n",
       "<style scoped>\n",
       "    .dataframe tbody tr th:only-of-type {\n",
       "        vertical-align: middle;\n",
       "    }\n",
       "\n",
       "    .dataframe tbody tr th {\n",
       "        vertical-align: top;\n",
       "    }\n",
       "\n",
       "    .dataframe thead th {\n",
       "        text-align: right;\n",
       "    }\n",
       "</style>\n",
       "<table border=\"1\" class=\"dataframe\">\n",
       "  <thead>\n",
       "    <tr style=\"text-align: right;\">\n",
       "      <th></th>\n",
       "      <th>BMI</th>\n",
       "      <th>Nmisc</th>\n",
       "      <th>Activity</th>\n",
       "      <th>Location</th>\n",
       "      <th>temp</th>\n",
       "      <th>bpm</th>\n",
       "      <th>stress</th>\n",
       "      <th>bp</th>\n",
       "      <th>Miscarriage/ No Miscarriage</th>\n",
       "    </tr>\n",
       "    <tr>\n",
       "      <th>Age</th>\n",
       "      <th></th>\n",
       "      <th></th>\n",
       "      <th></th>\n",
       "      <th></th>\n",
       "      <th></th>\n",
       "      <th></th>\n",
       "      <th></th>\n",
       "      <th></th>\n",
       "      <th></th>\n",
       "    </tr>\n",
       "  </thead>\n",
       "  <tbody>\n",
       "    <tr>\n",
       "      <th>25</th>\n",
       "      <td>19.84127</td>\n",
       "      <td>2</td>\n",
       "      <td>1</td>\n",
       "      <td>2</td>\n",
       "      <td>33</td>\n",
       "      <td>103</td>\n",
       "      <td>0</td>\n",
       "      <td>2</td>\n",
       "      <td>1</td>\n",
       "    </tr>\n",
       "    <tr>\n",
       "      <th>25</th>\n",
       "      <td>19.84127</td>\n",
       "      <td>2</td>\n",
       "      <td>1</td>\n",
       "      <td>2</td>\n",
       "      <td>31</td>\n",
       "      <td>103</td>\n",
       "      <td>0</td>\n",
       "      <td>2</td>\n",
       "      <td>0</td>\n",
       "    </tr>\n",
       "    <tr>\n",
       "      <th>25</th>\n",
       "      <td>19.84127</td>\n",
       "      <td>2</td>\n",
       "      <td>1</td>\n",
       "      <td>2</td>\n",
       "      <td>31</td>\n",
       "      <td>103</td>\n",
       "      <td>0</td>\n",
       "      <td>2</td>\n",
       "      <td>1</td>\n",
       "    </tr>\n",
       "    <tr>\n",
       "      <th>25</th>\n",
       "      <td>19.84127</td>\n",
       "      <td>2</td>\n",
       "      <td>1</td>\n",
       "      <td>2</td>\n",
       "      <td>32</td>\n",
       "      <td>103</td>\n",
       "      <td>0</td>\n",
       "      <td>2</td>\n",
       "      <td>0</td>\n",
       "    </tr>\n",
       "    <tr>\n",
       "      <th>25</th>\n",
       "      <td>19.84127</td>\n",
       "      <td>2</td>\n",
       "      <td>1</td>\n",
       "      <td>2</td>\n",
       "      <td>30</td>\n",
       "      <td>103</td>\n",
       "      <td>0</td>\n",
       "      <td>2</td>\n",
       "      <td>1</td>\n",
       "    </tr>\n",
       "  </tbody>\n",
       "</table>\n",
       "</div>"
      ],
      "text/plain": [
       "          BMI  Nmisc  Activity  Location  temp  bpm  stress  bp  \\\n",
       "Age                                                               \n",
       "25   19.84127      2         1         2    33  103       0   2   \n",
       "25   19.84127      2         1         2    31  103       0   2   \n",
       "25   19.84127      2         1         2    31  103       0   2   \n",
       "25   19.84127      2         1         2    32  103       0   2   \n",
       "25   19.84127      2         1         2    30  103       0   2   \n",
       "\n",
       "     Miscarriage/ No Miscarriage  \n",
       "Age                               \n",
       "25                             1  \n",
       "25                             0  \n",
       "25                             1  \n",
       "25                             0  \n",
       "25                             1  "
      ]
     },
     "execution_count": 19,
     "metadata": {},
     "output_type": "execute_result"
    }
   ],
   "source": [
    "df.head()"
   ]
  },
  {
   "cell_type": "code",
   "execution_count": 20,
   "id": "ddc31145",
   "metadata": {},
   "outputs": [
    {
     "name": "stdout",
     "output_type": "stream",
     "text": [
      "<class 'pandas.core.frame.DataFrame'>\n",
      "Int64Index: 999999 entries, 25 to 25\n",
      "Data columns (total 9 columns):\n",
      " #   Column                       Non-Null Count   Dtype  \n",
      "---  ------                       --------------   -----  \n",
      " 0   BMI                          999999 non-null  float64\n",
      " 1   Nmisc                        999999 non-null  int64  \n",
      " 2   Activity                     999999 non-null  int64  \n",
      " 3   Location                     999999 non-null  int64  \n",
      " 4   temp                         999999 non-null  int64  \n",
      " 5   bpm                          999999 non-null  int64  \n",
      " 6   stress                       999999 non-null  int64  \n",
      " 7   bp                           999999 non-null  int64  \n",
      " 8   Miscarriage/ No Miscarriage  999999 non-null  int64  \n",
      "dtypes: float64(1), int64(8)\n",
      "memory usage: 76.3 MB\n"
     ]
    }
   ],
   "source": [
    "df.info()"
   ]
  },
  {
   "cell_type": "code",
   "execution_count": 21,
   "id": "524d1b9c",
   "metadata": {},
   "outputs": [],
   "source": [
    "X = df.iloc[:,1:6]"
   ]
  },
  {
   "cell_type": "code",
   "execution_count": 22,
   "id": "3b6c1afc",
   "metadata": {},
   "outputs": [
    {
     "data": {
      "text/html": [
       "<div>\n",
       "<style scoped>\n",
       "    .dataframe tbody tr th:only-of-type {\n",
       "        vertical-align: middle;\n",
       "    }\n",
       "\n",
       "    .dataframe tbody tr th {\n",
       "        vertical-align: top;\n",
       "    }\n",
       "\n",
       "    .dataframe thead th {\n",
       "        text-align: right;\n",
       "    }\n",
       "</style>\n",
       "<table border=\"1\" class=\"dataframe\">\n",
       "  <thead>\n",
       "    <tr style=\"text-align: right;\">\n",
       "      <th></th>\n",
       "      <th>Nmisc</th>\n",
       "      <th>Activity</th>\n",
       "      <th>Location</th>\n",
       "      <th>temp</th>\n",
       "      <th>bpm</th>\n",
       "    </tr>\n",
       "    <tr>\n",
       "      <th>Age</th>\n",
       "      <th></th>\n",
       "      <th></th>\n",
       "      <th></th>\n",
       "      <th></th>\n",
       "      <th></th>\n",
       "    </tr>\n",
       "  </thead>\n",
       "  <tbody>\n",
       "    <tr>\n",
       "      <th>25</th>\n",
       "      <td>2</td>\n",
       "      <td>1</td>\n",
       "      <td>2</td>\n",
       "      <td>33</td>\n",
       "      <td>103</td>\n",
       "    </tr>\n",
       "    <tr>\n",
       "      <th>25</th>\n",
       "      <td>2</td>\n",
       "      <td>1</td>\n",
       "      <td>2</td>\n",
       "      <td>31</td>\n",
       "      <td>103</td>\n",
       "    </tr>\n",
       "    <tr>\n",
       "      <th>25</th>\n",
       "      <td>2</td>\n",
       "      <td>1</td>\n",
       "      <td>2</td>\n",
       "      <td>31</td>\n",
       "      <td>103</td>\n",
       "    </tr>\n",
       "    <tr>\n",
       "      <th>25</th>\n",
       "      <td>2</td>\n",
       "      <td>1</td>\n",
       "      <td>2</td>\n",
       "      <td>32</td>\n",
       "      <td>103</td>\n",
       "    </tr>\n",
       "    <tr>\n",
       "      <th>25</th>\n",
       "      <td>2</td>\n",
       "      <td>1</td>\n",
       "      <td>2</td>\n",
       "      <td>30</td>\n",
       "      <td>103</td>\n",
       "    </tr>\n",
       "  </tbody>\n",
       "</table>\n",
       "</div>"
      ],
      "text/plain": [
       "     Nmisc  Activity  Location  temp  bpm\n",
       "Age                                      \n",
       "25       2         1         2    33  103\n",
       "25       2         1         2    31  103\n",
       "25       2         1         2    31  103\n",
       "25       2         1         2    32  103\n",
       "25       2         1         2    30  103"
      ]
     },
     "execution_count": 22,
     "metadata": {},
     "output_type": "execute_result"
    }
   ],
   "source": [
    "X.head()"
   ]
  },
  {
   "cell_type": "markdown",
   "id": "1647eaf4",
   "metadata": {},
   "source": [
    "#  X & y  in an array"
   ]
  },
  {
   "cell_type": "code",
   "execution_count": 24,
   "id": "5949afe9",
   "metadata": {},
   "outputs": [],
   "source": [
    "X = X.values"
   ]
  },
  {
   "cell_type": "code",
   "execution_count": 25,
   "id": "8a26c3dd",
   "metadata": {},
   "outputs": [
    {
     "data": {
      "text/plain": [
       "array([[  2,   1,   2,  33, 103],\n",
       "       [  2,   1,   2,  31, 103],\n",
       "       [  2,   1,   2,  31, 103],\n",
       "       ...,\n",
       "       [  2,   4,   0,  35,  90],\n",
       "       [  2,   4,   0,  29,  90],\n",
       "       [  2,   4,   0,  39,  90]], dtype=int64)"
      ]
     },
     "execution_count": 25,
     "metadata": {},
     "output_type": "execute_result"
    }
   ],
   "source": [
    "X"
   ]
  },
  {
   "cell_type": "code",
   "execution_count": 28,
   "id": "4df49965",
   "metadata": {},
   "outputs": [],
   "source": [
    "y = df.iloc[:, -1].values"
   ]
  },
  {
   "cell_type": "code",
   "execution_count": 29,
   "id": "30152a2c",
   "metadata": {},
   "outputs": [
    {
     "data": {
      "text/plain": [
       "array([1, 0, 1, ..., 1, 1, 1], dtype=int64)"
      ]
     },
     "execution_count": 29,
     "metadata": {},
     "output_type": "execute_result"
    }
   ],
   "source": [
    "y"
   ]
  },
  {
   "cell_type": "markdown",
   "id": "8ab46499",
   "metadata": {},
   "source": [
    "# Standardize the variables\n",
    "Because the KNN classifier predicts the class of a given test observation by identifying the observations that are nearest to it, the scale of the variables matters. Any variables that are on a small scale  \n",
    "\n"
   ]
  },
  {
   "cell_type": "code",
   "execution_count": 30,
   "id": "e3026424",
   "metadata": {},
   "outputs": [],
   "source": [
    "from sklearn.preprocessing import StandardScaler"
   ]
  },
  {
   "cell_type": "code",
   "execution_count": 31,
   "id": "2794782c",
   "metadata": {},
   "outputs": [],
   "source": [
    "scaler = StandardScaler()"
   ]
  },
  {
   "cell_type": "code",
   "execution_count": 32,
   "id": "465ec428",
   "metadata": {},
   "outputs": [
    {
     "data": {
      "text/plain": [
       "StandardScaler()"
      ]
     },
     "execution_count": 32,
     "metadata": {},
     "output_type": "execute_result"
    }
   ],
   "source": [
    "scaler.fit(df.drop('Miscarriage/ No Miscarriage', axis=1))"
   ]
  },
  {
   "cell_type": "code",
   "execution_count": 33,
   "id": "13f5ec67",
   "metadata": {},
   "outputs": [],
   "source": [
    "scaled_features = scaler.transform(df.drop('Miscarriage/ No Miscarriage',axis=1))"
   ]
  },
  {
   "cell_type": "code",
   "execution_count": 34,
   "id": "b90e305b",
   "metadata": {},
   "outputs": [
    {
     "data": {
      "text/html": [
       "<div>\n",
       "<style scoped>\n",
       "    .dataframe tbody tr th:only-of-type {\n",
       "        vertical-align: middle;\n",
       "    }\n",
       "\n",
       "    .dataframe tbody tr th {\n",
       "        vertical-align: top;\n",
       "    }\n",
       "\n",
       "    .dataframe thead th {\n",
       "        text-align: right;\n",
       "    }\n",
       "</style>\n",
       "<table border=\"1\" class=\"dataframe\">\n",
       "  <thead>\n",
       "    <tr style=\"text-align: right;\">\n",
       "      <th></th>\n",
       "      <th>BMI</th>\n",
       "      <th>Nmisc</th>\n",
       "      <th>Activity</th>\n",
       "      <th>Location</th>\n",
       "      <th>temp</th>\n",
       "      <th>bpm</th>\n",
       "      <th>stress</th>\n",
       "      <th>bp</th>\n",
       "    </tr>\n",
       "  </thead>\n",
       "  <tbody>\n",
       "    <tr>\n",
       "      <th>0</th>\n",
       "      <td>-0.06932</td>\n",
       "      <td>0.0</td>\n",
       "      <td>-1.349241</td>\n",
       "      <td>0.502226</td>\n",
       "      <td>-0.267540</td>\n",
       "      <td>-0.448912</td>\n",
       "      <td>-1.050138</td>\n",
       "      <td>0.426565</td>\n",
       "    </tr>\n",
       "    <tr>\n",
       "      <th>1</th>\n",
       "      <td>-0.06932</td>\n",
       "      <td>0.0</td>\n",
       "      <td>-1.349241</td>\n",
       "      <td>0.502226</td>\n",
       "      <td>-0.802222</td>\n",
       "      <td>-0.448912</td>\n",
       "      <td>-1.050138</td>\n",
       "      <td>0.426565</td>\n",
       "    </tr>\n",
       "    <tr>\n",
       "      <th>2</th>\n",
       "      <td>-0.06932</td>\n",
       "      <td>0.0</td>\n",
       "      <td>-1.349241</td>\n",
       "      <td>0.502226</td>\n",
       "      <td>-0.802222</td>\n",
       "      <td>-0.448912</td>\n",
       "      <td>-1.050138</td>\n",
       "      <td>0.426565</td>\n",
       "    </tr>\n",
       "    <tr>\n",
       "      <th>3</th>\n",
       "      <td>-0.06932</td>\n",
       "      <td>0.0</td>\n",
       "      <td>-1.349241</td>\n",
       "      <td>0.502226</td>\n",
       "      <td>-0.534881</td>\n",
       "      <td>-0.448912</td>\n",
       "      <td>-1.050138</td>\n",
       "      <td>0.426565</td>\n",
       "    </tr>\n",
       "    <tr>\n",
       "      <th>4</th>\n",
       "      <td>-0.06932</td>\n",
       "      <td>0.0</td>\n",
       "      <td>-1.349241</td>\n",
       "      <td>0.502226</td>\n",
       "      <td>-1.069564</td>\n",
       "      <td>-0.448912</td>\n",
       "      <td>-1.050138</td>\n",
       "      <td>0.426565</td>\n",
       "    </tr>\n",
       "  </tbody>\n",
       "</table>\n",
       "</div>"
      ],
      "text/plain": [
       "       BMI  Nmisc  Activity  Location      temp       bpm    stress        bp\n",
       "0 -0.06932    0.0 -1.349241  0.502226 -0.267540 -0.448912 -1.050138  0.426565\n",
       "1 -0.06932    0.0 -1.349241  0.502226 -0.802222 -0.448912 -1.050138  0.426565\n",
       "2 -0.06932    0.0 -1.349241  0.502226 -0.802222 -0.448912 -1.050138  0.426565\n",
       "3 -0.06932    0.0 -1.349241  0.502226 -0.534881 -0.448912 -1.050138  0.426565\n",
       "4 -0.06932    0.0 -1.349241  0.502226 -1.069564 -0.448912 -1.050138  0.426565"
      ]
     },
     "execution_count": 34,
     "metadata": {},
     "output_type": "execute_result"
    }
   ],
   "source": [
    "df_feat= pd.DataFrame(scaled_features, columns=df.columns[:-1])\n",
    "df_feat.head()"
   ]
  },
  {
   "cell_type": "markdown",
   "id": "777efd3c",
   "metadata": {},
   "source": [
    "# TRAIN TEST SPLIT"
   ]
  },
  {
   "cell_type": "code",
   "execution_count": 35,
   "id": "fba9cf1a",
   "metadata": {},
   "outputs": [],
   "source": [
    "from sklearn.model_selection import train_test_split"
   ]
  },
  {
   "cell_type": "code",
   "execution_count": 36,
   "id": "455bce6d",
   "metadata": {},
   "outputs": [],
   "source": [
    "X_train, X_test, y_train, y_test = train_test_split(X,y, test_size = 0.2, random_state=20)\n",
    "#df['Miscarriage/ No Miscarriage'], test_size = 0.3)\n",
    "#x_train,x_test,y_train,y_test=train_test_split(x,y,test_size=0.2,random_state=0)"
   ]
  },
  {
   "cell_type": "code",
   "execution_count": 37,
   "id": "7f450b6f",
   "metadata": {},
   "outputs": [],
   "source": [
    "# USING KNN\n",
    "#we'll start with k=1\n",
    "\n",
    "from sklearn.neighbors import KNeighborsClassifier"
   ]
  },
  {
   "cell_type": "code",
   "execution_count": 40,
   "id": "4ccf1f14",
   "metadata": {},
   "outputs": [],
   "source": [
    "KNN = KNeighborsClassifier(n_neighbors = 5,\n",
    "                          weights = 'uniform',\n",
    "                          algorithm = 'kd_tree',\n",
    "                          leaf_size = 30,\n",
    "                          p = 2,\n",
    "                          metric = 'minkowski',\n",
    "                          n_jobs = -1)"
   ]
  },
  {
   "cell_type": "code",
   "execution_count": 41,
   "id": "0d180950",
   "metadata": {},
   "outputs": [
    {
     "data": {
      "text/plain": [
       "KNeighborsClassifier(algorithm='kd_tree', n_jobs=-1)"
      ]
     },
     "execution_count": 41,
     "metadata": {},
     "output_type": "execute_result"
    }
   ],
   "source": [
    "KNN.fit(X_train, y_train)"
   ]
  },
  {
   "cell_type": "code",
   "execution_count": 43,
   "id": "9d46a942",
   "metadata": {},
   "outputs": [],
   "source": [
    "y_pred = KNN.predict(X_test)"
   ]
  },
  {
   "cell_type": "markdown",
   "id": "e8870192",
   "metadata": {},
   "source": [
    "# Acurracy of model\n"
   ]
  },
  {
   "cell_type": "code",
   "execution_count": 44,
   "id": "c8f55812",
   "metadata": {},
   "outputs": [],
   "source": [
    "from sklearn.metrics import classification_report, confusion_matrix"
   ]
  },
  {
   "cell_type": "code",
   "execution_count": 49,
   "id": "a060b73a",
   "metadata": {},
   "outputs": [
    {
     "name": "stdout",
     "output_type": "stream",
     "text": [
      "              precision    recall  f1-score   support\n",
      "\n",
      "           0       0.50      0.51      0.50    100322\n",
      "           1       0.50      0.49      0.50     99678\n",
      "\n",
      "    accuracy                           0.50    200000\n",
      "   macro avg       0.50      0.50      0.50    200000\n",
      "weighted avg       0.50      0.50      0.50    200000\n",
      "\n"
     ]
    }
   ],
   "source": [
    "print( classification_report(y_test.reshape(-1, 1), y_pred))"
   ]
  },
  {
   "cell_type": "markdown",
   "id": "d6592fbc",
   "metadata": {},
   "source": [
    "# Cross-Validation\n"
   ]
  },
  {
   "cell_type": "code",
   "execution_count": 50,
   "id": "4e3e3881",
   "metadata": {},
   "outputs": [],
   "source": [
    "from sklearn.model_selection import cross_val_score"
   ]
  },
  {
   "cell_type": "code",
   "execution_count": 51,
   "id": "5d955214",
   "metadata": {},
   "outputs": [
    {
     "name": "stdout",
     "output_type": "stream",
     "text": [
      "Cross val [0.493525 0.4999   0.50645  0.5001   0.50395 ]\n"
     ]
    }
   ],
   "source": [
    "print('Cross val', cross_val_score(KNN, y_test.reshape(-1, 1), y_pred))"
   ]
  },
  {
   "cell_type": "code",
   "execution_count": 52,
   "id": "fecc6235",
   "metadata": {},
   "outputs": [
    {
     "name": "stdout",
     "output_type": "stream",
     "text": [
      "Cross val 0.5007849999999999\n"
     ]
    }
   ],
   "source": [
    "print('Cross val', np.mean(cross_val_score(KNN, y_test.reshape(-1, 1), y_pred)))"
   ]
  },
  {
   "cell_type": "code",
   "execution_count": null,
   "id": "4358bc13",
   "metadata": {},
   "outputs": [],
   "source": []
  },
  {
   "cell_type": "code",
   "execution_count": null,
   "id": "c9f19c00",
   "metadata": {},
   "outputs": [],
   "source": []
  }
 ],
 "metadata": {
  "kernelspec": {
   "display_name": "Python 3",
   "language": "python",
   "name": "python3"
  },
  "language_info": {
   "codemirror_mode": {
    "name": "ipython",
    "version": 3
   },
   "file_extension": ".py",
   "mimetype": "text/x-python",
   "name": "python",
   "nbconvert_exporter": "python",
   "pygments_lexer": "ipython3",
   "version": "3.8.8"
  }
 },
 "nbformat": 4,
 "nbformat_minor": 5
}
